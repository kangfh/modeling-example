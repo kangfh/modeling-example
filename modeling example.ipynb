{
 "cells": [
  {
   "cell_type": "code",
   "execution_count": 65,
   "metadata": {
    "scrolled": false
   },
   "outputs": [
    {
     "name": "stdout",
     "output_type": "stream",
     "text": [
      "[[100.           0.           0.         ...   0.           0.\n",
      "    0.        ]\n",
      " [100.          10.           0.         ...   0.           0.\n",
      "    0.        ]\n",
      " [100.          17.99         1.         ...   0.           0.\n",
      "    0.        ]\n",
      " ...\n",
      " [100.          87.27042917  75.42217163 ...  16.98240092   8.44467261\n",
      "    8.44467261]\n",
      " [100.          87.27129007  75.42380916 ...  16.98403844   8.44553351\n",
      "    8.44553351]\n",
      " [100.          87.27214168  75.42542902 ...  16.98565829   8.44638512\n",
      "    8.44638512]]\n",
      "0.799\n",
      "0.09999999999999998\n"
     ]
    }
   ],
   "source": [
    "import numpy as np\n",
    "from matplotlib import pyplot as plt, lines\n",
    "\n",
    "C0=100    #mg/L\n",
    "x=1      #mm\n",
    "t=5      #second\n",
    "D=0.1       # mm^2/s  diffusion coefficient\n",
    "K=0.1       # s^-1   first order decay rate\n",
    "deltax=0.1\n",
    "deltat=0.01\n",
    "xpoint=x/deltax+1\n",
    "tpoint=t/deltat+1\n",
    "A=1-2*D*deltat/deltax**2-deltat*K\n",
    "B=D*deltat/deltax**2\n",
    "s=(int(tpoint),int(xpoint))\n",
    "matrix=np.zeros(s)         #create an empty iXj size matrix\n",
    "for r in range(int(tpoint)):   #replace all the initial concentration \n",
    "    matrix[r][0]=C0            #at x=0 initial condition C(x=0,t)=C0\n",
    "for l in range(int(tpoint)):\n",
    "    if l < int(tpoint)-1: \n",
    "        for o in range(int(xpoint)):\n",
    "            o+=1\n",
    "            if o < int(xpoint)-1: \n",
    "                \n",
    "                matrix[l+1][o]=A*matrix[l][o]+B*(matrix[l][o+1]+matrix[l][o-1])\n",
    "            else:\n",
    "                break\n",
    "        matrix[l][int(xpoint)-1]= matrix[l][int(xpoint)-2]     \n",
    "    else:       \n",
    "        break\n",
    "    matrix[int(tpoint)-1][int(xpoint)-1]= matrix[int(tpoint)-1][int(xpoint)-2]\n",
    "print(matrix)\n",
    "print(A)\n",
    "print(B)"
   ]
  },
  {
   "cell_type": "code",
   "execution_count": 51,
   "metadata": {},
   "outputs": [
    {
     "name": "stdout",
     "output_type": "stream",
     "text": [
      "20\n",
      "[[0, 0, 0], [0, 0, 0]]\n"
     ]
    }
   ],
   "source": [
    "matrix=[[0 for i in range(int(3))] for j in range(int(2))]\n",
    "x=int(20)\n",
    "print(x)\n",
    "print(matrix)"
   ]
  },
  {
   "cell_type": "code",
   "execution_count": null,
   "metadata": {},
   "outputs": [],
   "source": []
  },
  {
   "cell_type": "code",
   "execution_count": null,
   "metadata": {},
   "outputs": [],
   "source": []
  },
  {
   "cell_type": "code",
   "execution_count": null,
   "metadata": {},
   "outputs": [],
   "source": []
  }
 ],
 "metadata": {
  "kernelspec": {
   "display_name": "Python 3",
   "language": "python",
   "name": "python3"
  },
  "language_info": {
   "codemirror_mode": {
    "name": "ipython",
    "version": 3
   },
   "file_extension": ".py",
   "mimetype": "text/x-python",
   "name": "python",
   "nbconvert_exporter": "python",
   "pygments_lexer": "ipython3",
   "version": "3.7.6"
  }
 },
 "nbformat": 4,
 "nbformat_minor": 4
}
